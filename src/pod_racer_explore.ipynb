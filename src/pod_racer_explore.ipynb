{
 "cells": [
  {
   "cell_type": "markdown",
   "id": "a48451dc",
   "metadata": {},
   "source": [
    "Review some of the hypothesis and find some approaches. One of the approaches is that the system should be able to determine the target trajectory line in time and determine where the line will take it\n"
   ]
  },
  {
   "cell_type": "markdown",
   "id": "84fa0df0",
   "metadata": {},
   "source": [
    "Code to determine trajectory\n",
    "what are the key variables\n",
    "vector comprising direction and magnitude, influenced by thrust and ship direction\n",
    "simple case would be that a ship moving in a single direction with speed s would have a vector of 0 degrees and size that cannot be more than s\n"
   ]
  },
  {
   "cell_type": "code",
   "execution_count": 2,
   "id": "ff965efb",
   "metadata": {},
   "outputs": [],
   "source": [
    "class vector:\n",
    "    def __init__(self):\n",
    "        self.direction = 0\n",
    "        self.velocity = 0\n",
    "    \n",
    "    def influence_direction(self, value):\n",
    "        self.direction == value\n",
    "        if self.direction >=360:\n",
    "            self.direction <=360\n",
    "        if self.direction < 0:\n",
    "            self.direction += 360\n",
    "    \n",
    "    def influence_velocity(self, value): \n",
    "        self.velocity += value"
   ]
  },
  {
   "cell_type": "code",
   "execution_count": null,
   "id": "ad799d9c",
   "metadata": {},
   "outputs": [],
   "source": []
  }
 ],
 "metadata": {
  "kernelspec": {
   "display_name": "Python 3 (ipykernel)",
   "language": "python",
   "name": "python3"
  },
  "language_info": {
   "codemirror_mode": {
    "name": "ipython",
    "version": 3
   },
   "file_extension": ".py",
   "mimetype": "text/x-python",
   "name": "python",
   "nbconvert_exporter": "python",
   "pygments_lexer": "ipython3",
   "version": "3.9.2"
  }
 },
 "nbformat": 4,
 "nbformat_minor": 5
}
