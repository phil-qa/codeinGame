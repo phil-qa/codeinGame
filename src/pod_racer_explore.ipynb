{
 "cells": [
  {
   "cell_type": "markdown",
   "id": "a48451dc",
   "metadata": {},
   "source": [
    "Review some of the hypothesis and find some approaches. One of the approaches is that the system should be able to determine the target trajectory line in time and determine where the line will take it\n"
   ]
  },
  {
   "cell_type": "markdown",
   "id": "84fa0df0",
   "metadata": {},
   "source": [
    "Code to determine trajectory\n",
    "what are the key variables\n",
    "vector comprising direction and magnitude, influenced by thrust and ship direction\n",
    "simple case would be that a ship moving in a single direction with speed s would have a vector of 0 degrees and size that cannot be more than s\n"
   ]
  },
  {
   "cell_type": "code",
   "execution_count": 35,
   "id": "ff965efb",
   "metadata": {},
   "outputs": [],
   "source": [
    "class vector:\n",
    "    def __init__(self):\n",
    "        self.compass_direction = 0\n",
    "        self.direction = 0\n",
    "        self.velocity = 0\n",
    "\n",
    "class vector_manager:\n",
    "    @staticmethod\n",
    "    def modify_velocity(vec, value):\n",
    "        vec.velocity += value\n",
    "    \n",
    "    @staticmethod\n",
    "    def modify_direction(self, value):\n",
    "        \n",
    "        "
   ]
  },
  {
   "cell_type": "code",
   "execution_count": 36,
   "id": "fe260d74",
   "metadata": {},
   "outputs": [],
   "source": [
    "\n",
    "class coordinate():\n",
    "    def __init__(self, x, y):\n",
    "        self.x = x\n",
    "        self.y = y\n",
    "\n",
    "        "
   ]
  },
  {
   "cell_type": "code",
   "execution_count": 37,
   "id": "ad799d9c",
   "metadata": {},
   "outputs": [],
   "source": [
    "def calculate_angles_from_coords(point_a, point_b, point_c):\n",
    "    try:\n",
    "        debug(f\"point a {point_a.x}:{point_a.y}, point b {point_b.x}:{point_b.y}, point c {point_c.x}:{point_c.y}\")\n",
    "        side_a = distance_between_two_points(point_a.x, point_a.y, point_b.x, point_b.y)\n",
    "        side_b = distance_between_two_points(point_b.x, point_b.y, point_c.x, point_c.y)\n",
    "        side_c = distance_between_two_points(point_c.x, point_c.y, point_a.x, point_a.y)\n",
    "        angle_a = acos((side_b ** 2 + side_c ** 2 - side_a ** 2) / (2 * side_b * side_c)).real\n",
    "        angle_b = acos((side_a ** 2 + side_c ** 2 - side_b ** 2) / (2 * side_a * side_c)).real\n",
    "        angle_c = acos((side_a ** 2 + side_b ** 2 - side_c ** 2) / (2 * side_a * side_b)).real\n",
    "        a_as_degrees = round(57.29 * angle_a, 0)\n",
    "        b_as_degrees = round(57.29 * angle_b, 0)\n",
    "        c_as_degrees = round(57.29 * angle_c, 0)\n",
    "        return [a_as_degrees, b_as_degrees, c_as_degrees] \n",
    "    except Exception as e:\n",
    "        debug(f\" {e} \")#Tests \n",
    "\n",
    "\n"
   ]
  },
  {
   "cell_type": "code",
   "execution_count": 38,
   "id": "dc32cb0e",
   "metadata": {},
   "outputs": [
    {
     "name": "stdout",
     "output_type": "stream",
     "text": [
      "True\n",
      "True\n",
      "True\n"
     ]
    }
   ],
   "source": [
    "v = vector()\n",
    "print(v.direction == 0)\n",
    "print(v.velocity == 0)\n",
    "\n",
    "vector_manager.modify_velocity(v,10)\n",
    "print(v.velocity==10)"
   ]
  },
  {
   "cell_type": "code",
   "execution_count": null,
   "id": "71847ea2",
   "metadata": {},
   "outputs": [],
   "source": [
    "reference_vector = influence_vector = vector()\n"
   ]
  }
 ],
 "metadata": {
  "kernelspec": {
   "display_name": "Python 3 (ipykernel)",
   "language": "python",
   "name": "python3"
  },
  "language_info": {
   "codemirror_mode": {
    "name": "ipython",
    "version": 3
   },
   "file_extension": ".py",
   "mimetype": "text/x-python",
   "name": "python",
   "nbconvert_exporter": "python",
   "pygments_lexer": "ipython3",
   "version": "3.10.4"
  }
 },
 "nbformat": 4,
 "nbformat_minor": 5
}
